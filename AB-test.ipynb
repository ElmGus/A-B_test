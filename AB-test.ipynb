{
 "cells": [
  {
   "attachments": {},
   "cell_type": "markdown",
   "metadata": {},
   "source": [
    "# Компания планирует запустить новую акцию, чтобы продать как можно больше туров. Команда разработала два варианта посадочной страницы.\n",
    "\n",
    "Стоимость туров:\n",
    "\n",
    "Таиланд — 100000 рублей;\n",
    "Турция — 60000 рублей;\n",
    "Мальдивы — 200000 рублей;\n",
    "Санкт-Петербург — 10000 рублей;\n",
    "Камчатка — 150000 рублей.\n",
    "Проверьте, какая из страниц приносит больше покупок.\n",
    "## Задачи: проанализировать результаты А/B теста.\n",
    "### Рассчитать кумулятивные метрики:\n",
    "постройте график конверсии в группах по дням;\n",
    "постройте график среднего чека в группах по дням;\n",
    "постройте график кумулятивных метрик по конверсии и по среднему чеку;\n",
    "сделайте выводы.\n",
    "### Провести статистическую проверку гипотез:\n",
    "равенстве конверсии;\n",
    "равенстве выручки;\n",
    "равенстве средних чеков по дням."
   ]
  },
  {
   "cell_type": "code",
   "execution_count": 3,
   "metadata": {},
   "outputs": [
    {
     "name": "stdout",
     "output_type": "stream",
     "text": [
      "<class 'pandas.core.frame.DataFrame'>\n",
      "RangeIndex: 294478 entries, 0 to 294477\n",
      "Data columns (total 5 columns):\n",
      " #   Column    Non-Null Count   Dtype \n",
      "---  ------    --------------   ----- \n",
      " 0   user_id   294478 non-null  int64 \n",
      " 1   date      294478 non-null  object\n",
      " 2   group     294478 non-null  object\n",
      " 3   purchase  294478 non-null  int64 \n",
      " 4   price     294478 non-null  int64 \n",
      "dtypes: int64(3), object(2)\n",
      "memory usage: 11.2+ MB\n"
     ]
    }
   ],
   "source": [
    "import pandas as pd\n",
    "import scipy.stats as st \n",
    "import seaborn as sns\n",
    "import matplotlib.pyplot as plt\n",
    "import math as mth\n",
    "\n",
    "# получаем файл\n",
    "df = pd.read_csv('C:/Users/admin/Desktop/skillfactory/IDE/ab_data.csv', index_col = False)\n",
    "df = df.drop(columns = 'Unnamed: 0')\n",
    "\n",
    "df.info()"
   ]
  },
  {
   "attachments": {},
   "cell_type": "markdown",
   "metadata": {},
   "source": [
    "### Оценим, за какой период нам предоставлены данные"
   ]
  },
  {
   "cell_type": "code",
   "execution_count": 4,
   "metadata": {},
   "outputs": [
    {
     "data": {
      "text/html": [
       "<div>\n",
       "<style scoped>\n",
       "    .dataframe tbody tr th:only-of-type {\n",
       "        vertical-align: middle;\n",
       "    }\n",
       "\n",
       "    .dataframe tbody tr th {\n",
       "        vertical-align: top;\n",
       "    }\n",
       "\n",
       "    .dataframe thead th {\n",
       "        text-align: right;\n",
       "    }\n",
       "</style>\n",
       "<table border=\"1\" class=\"dataframe\">\n",
       "  <thead>\n",
       "    <tr style=\"text-align: right;\">\n",
       "      <th></th>\n",
       "      <th>user_id</th>\n",
       "      <th>date</th>\n",
       "      <th>purchase</th>\n",
       "      <th>price</th>\n",
       "    </tr>\n",
       "  </thead>\n",
       "  <tbody>\n",
       "    <tr>\n",
       "      <th>count</th>\n",
       "      <td>294478.000000</td>\n",
       "      <td>294478</td>\n",
       "      <td>294478.000000</td>\n",
       "      <td>294478.000000</td>\n",
       "    </tr>\n",
       "    <tr>\n",
       "      <th>mean</th>\n",
       "      <td>787974.124733</td>\n",
       "      <td>2021-01-13 01:39:48.011328</td>\n",
       "      <td>0.119659</td>\n",
       "      <td>10154.782361</td>\n",
       "    </tr>\n",
       "    <tr>\n",
       "      <th>min</th>\n",
       "      <td>630000.000000</td>\n",
       "      <td>2021-01-02 00:00:00</td>\n",
       "      <td>0.000000</td>\n",
       "      <td>0.000000</td>\n",
       "    </tr>\n",
       "    <tr>\n",
       "      <th>25%</th>\n",
       "      <td>709032.250000</td>\n",
       "      <td>2021-01-08 00:00:00</td>\n",
       "      <td>0.000000</td>\n",
       "      <td>0.000000</td>\n",
       "    </tr>\n",
       "    <tr>\n",
       "      <th>50%</th>\n",
       "      <td>787933.500000</td>\n",
       "      <td>2021-01-13 00:00:00</td>\n",
       "      <td>0.000000</td>\n",
       "      <td>0.000000</td>\n",
       "    </tr>\n",
       "    <tr>\n",
       "      <th>75%</th>\n",
       "      <td>866911.750000</td>\n",
       "      <td>2021-01-19 00:00:00</td>\n",
       "      <td>0.000000</td>\n",
       "      <td>0.000000</td>\n",
       "    </tr>\n",
       "    <tr>\n",
       "      <th>max</th>\n",
       "      <td>945999.000000</td>\n",
       "      <td>2021-01-24 00:00:00</td>\n",
       "      <td>1.000000</td>\n",
       "      <td>200000.000000</td>\n",
       "    </tr>\n",
       "    <tr>\n",
       "      <th>std</th>\n",
       "      <td>91210.823776</td>\n",
       "      <td>NaN</td>\n",
       "      <td>0.324563</td>\n",
       "      <td>35153.824872</td>\n",
       "    </tr>\n",
       "  </tbody>\n",
       "</table>\n",
       "</div>"
      ],
      "text/plain": [
       "             user_id                        date       purchase          price\n",
       "count  294478.000000                      294478  294478.000000  294478.000000\n",
       "mean   787974.124733  2021-01-13 01:39:48.011328       0.119659   10154.782361\n",
       "min    630000.000000         2021-01-02 00:00:00       0.000000       0.000000\n",
       "25%    709032.250000         2021-01-08 00:00:00       0.000000       0.000000\n",
       "50%    787933.500000         2021-01-13 00:00:00       0.000000       0.000000\n",
       "75%    866911.750000         2021-01-19 00:00:00       0.000000       0.000000\n",
       "max    945999.000000         2021-01-24 00:00:00       1.000000  200000.000000\n",
       "std     91210.823776                         NaN       0.324563   35153.824872"
      ]
     },
     "execution_count": 4,
     "metadata": {},
     "output_type": "execute_result"
    }
   ],
   "source": [
    "df['date'] = pd.to_datetime(df['date'])\n",
    "df.describe(datetime_is_numeric=True)"
   ]
  },
  {
   "attachments": {},
   "cell_type": "markdown",
   "metadata": {},
   "source": [
    "Делим датафрейм по группам"
   ]
  },
  {
   "cell_type": "code",
   "execution_count": 5,
   "metadata": {},
   "outputs": [
    {
     "name": "stdout",
     "output_type": "stream",
     "text": [
      "Пользователей в группе А - 147202; пользователей в группе В - 147276\n",
      "Процент отколнения равен -0.05%. Распределение сработало корректно. Продолжаем тест, так как разница не превышает 1%\n"
     ]
    }
   ],
   "source": [
    "dfa = df[df['group']=='A']\n",
    "dfb = df[df['group']=='B']\n",
    "# смотрим количество посещений в группах и процент отклонения \n",
    "print(\"Пользователей в группе А - {}; пользователей в группе В - {}\"\\\n",
    "      .format(dfa.user_id.count(), dfb.user_id.count()) )\n",
    "print(\"Процент отколнения равен {}%. Распределение сработало корректно. Продолжаем тест, так как разница не превышает 1%\"\\\n",
    "      .format(round((dfa.user_id.count()-dfb.user_id.count())*100/dfb.user_id.count(), 3)))"
   ]
  },
  {
   "attachments": {},
   "cell_type": "markdown",
   "metadata": {},
   "source": [
    "Проверим наличие пользователей, попавших в обе тестовые группы:"
   ]
  },
  {
   "cell_type": "code",
   "execution_count": 6,
   "metadata": {},
   "outputs": [
    {
     "name": "stdout",
     "output_type": "stream",
     "text": [
      "1895 пользователей попали в обе группы\n"
     ]
    }
   ],
   "source": [
    "set_a=set(dfa.user_id)\n",
    "set_b=set(dfb.user_id)\n",
    "print(len(set_a) - len(set_a.difference(set_b)), 'пользователей попали в обе группы')"
   ]
  },
  {
   "cell_type": "code",
   "execution_count": 7,
   "metadata": {},
   "outputs": [
    {
     "name": "stdout",
     "output_type": "stream",
     "text": [
      "<class 'pandas.core.frame.DataFrame'>\n",
      "Int64Index: 145307 entries, 0 to 294476\n",
      "Data columns (total 5 columns):\n",
      " #   Column    Non-Null Count   Dtype         \n",
      "---  ------    --------------   -----         \n",
      " 0   user_id   145307 non-null  int64         \n",
      " 1   date      145307 non-null  datetime64[ns]\n",
      " 2   group     145307 non-null  object        \n",
      " 3   purchase  145307 non-null  int64         \n",
      " 4   price     145307 non-null  int64         \n",
      "dtypes: datetime64[ns](1), int64(3), object(1)\n",
      "memory usage: 6.7+ MB\n"
     ]
    },
    {
     "data": {
      "text/plain": [
       "None"
      ]
     },
     "metadata": {},
     "output_type": "display_data"
    },
    {
     "name": "stdout",
     "output_type": "stream",
     "text": [
      "<class 'pandas.core.frame.DataFrame'>\n",
      "Int64Index: 145381 entries, 2 to 294477\n",
      "Data columns (total 5 columns):\n",
      " #   Column    Non-Null Count   Dtype         \n",
      "---  ------    --------------   -----         \n",
      " 0   user_id   145381 non-null  int64         \n",
      " 1   date      145381 non-null  datetime64[ns]\n",
      " 2   group     145381 non-null  object        \n",
      " 3   purchase  145381 non-null  int64         \n",
      " 4   price     145381 non-null  int64         \n",
      "dtypes: datetime64[ns](1), int64(3), object(1)\n",
      "memory usage: 6.7+ MB\n"
     ]
    },
    {
     "data": {
      "text/plain": [
       "None"
      ]
     },
     "metadata": {},
     "output_type": "display_data"
    }
   ],
   "source": [
    "bb = set_b.copy()\n",
    "aa = set_a.copy()\n",
    "a = set_a.difference(bb) # группа А\n",
    "b = bb.difference(aa) # группа B\n",
    "dfa = dfa[dfa.user_id.isin(a)] # отфильтруем и актуальзируем датафреймы\n",
    "dfb = dfb[dfb.user_id.isin(b)]\n",
    "display(dfa.info())\n",
    "display(dfb.info())"
   ]
  },
  {
   "cell_type": "code",
   "execution_count": 8,
   "metadata": {},
   "outputs": [
    {
     "data": {
      "text/html": [
       "<div>\n",
       "<style scoped>\n",
       "    .dataframe tbody tr th:only-of-type {\n",
       "        vertical-align: middle;\n",
       "    }\n",
       "\n",
       "    .dataframe tbody tr th {\n",
       "        vertical-align: top;\n",
       "    }\n",
       "\n",
       "    .dataframe thead th {\n",
       "        text-align: right;\n",
       "    }\n",
       "</style>\n",
       "<table border=\"1\" class=\"dataframe\">\n",
       "  <thead>\n",
       "    <tr style=\"text-align: right;\">\n",
       "      <th></th>\n",
       "      <th>group</th>\n",
       "      <th>user_id</th>\n",
       "      <th>purchase</th>\n",
       "      <th>price</th>\n",
       "      <th>avg_price</th>\n",
       "      <th>conversion, %</th>\n",
       "    </tr>\n",
       "  </thead>\n",
       "  <tbody>\n",
       "    <tr>\n",
       "      <th>0</th>\n",
       "      <td>A</td>\n",
       "      <td>145307</td>\n",
       "      <td>17487</td>\n",
       "      <td>1417780000</td>\n",
       "      <td>81076.23</td>\n",
       "      <td>12.03</td>\n",
       "    </tr>\n",
       "    <tr>\n",
       "      <th>1</th>\n",
       "      <td>B</td>\n",
       "      <td>145381</td>\n",
       "      <td>17290</td>\n",
       "      <td>1533010000</td>\n",
       "      <td>88664.55</td>\n",
       "      <td>11.89</td>\n",
       "    </tr>\n",
       "  </tbody>\n",
       "</table>\n",
       "</div>"
      ],
      "text/plain": [
       "  group  user_id  purchase       price  avg_price  conversion, %\n",
       "0     A   145307     17487  1417780000   81076.23          12.03\n",
       "1     B   145381     17290  1533010000   88664.55          11.89"
      ]
     },
     "metadata": {},
     "output_type": "display_data"
    }
   ],
   "source": [
    "df_full=pd.concat([dfa, dfb], ignore_index=True, axis=0) \n",
    "df_full_g = df_full.groupby(['group'], as_index=False).agg({'user_id' : 'count', 'purchase': 'sum', 'price': 'sum'})\n",
    "df_full_g['avg_price'] = round((df_full_g['price'] / df_full_g['purchase']),2) # средний чек\n",
    "df_full_g['conversion, %'] = round((df_full_g['purchase']*100 / df_full_g['user_id']),2) # конверсия в покупку\n",
    "display(df_full_g)"
   ]
  },
  {
   "attachments": {},
   "cell_type": "markdown",
   "metadata": {},
   "source": [
    "Несмотря на то что в группе B было больше посетителей, (относительная) конверсия в группе B меньше на 1.16%. За счёт меньшей конверсии в группе B было меньше покупок, однако выручка группы B больше выручки группы A на 115230000 единиц, или 7.5%. Большая выручка в группе B складывается за счёт того, что средний чек группы B выше среднего чека группы A."
   ]
  },
  {
   "attachments": {},
   "cell_type": "markdown",
   "metadata": {},
   "source": [
    "### Построим гистограммы по выручке для обеих групп"
   ]
  },
  {
   "cell_type": "code",
   "execution_count": 9,
   "metadata": {},
   "outputs": [
    {
     "data": {
      "image/png": "[encoded data removed]",
      "text/plain": [
       "<Figure size 1500x500 with 2 Axes>"
      ]
     },
     "metadata": {},
     "output_type": "display_data"
    }
   ],
   "source": [
    "fig, axes = plt.subplots(nrows=1, ncols=2, figsize = (15,5))\n",
    "axes[0].hist(df_full[(df_full['group'] == 'A')&(df_full['price']>0)].price, bins = 20, label='Group A')\n",
    "axes[1].hist(df_full[(df_full['group'] == 'B')&(df_full['price']>0)].price, bins = 20, label='Group B')\n",
    "axes[0].grid(True) \n",
    "axes[1].grid(True) "
   ]
  },
  {
   "attachments": {},
   "cell_type": "markdown",
   "metadata": {},
   "source": [
    "Участники группы A чаще покупают туры за 60000 рублей, при этом реже покупают туры за 100000 рублей. В остальном покупательская способность обеих групп похожа."
   ]
  },
  {
   "attachments": {},
   "cell_type": "markdown",
   "metadata": {},
   "source": [
    "### Создадим кумулятивную таблицу"
   ]
  },
  {
   "cell_type": "code",
   "execution_count": 10,
   "metadata": {},
   "outputs": [
    {
     "data": {
      "text/html": [
       "<div>\n",
       "<style scoped>\n",
       "    .dataframe tbody tr th:only-of-type {\n",
       "        vertical-align: middle;\n",
       "    }\n",
       "\n",
       "    .dataframe tbody tr th {\n",
       "        vertical-align: top;\n",
       "    }\n",
       "\n",
       "    .dataframe thead th {\n",
       "        text-align: right;\n",
       "    }\n",
       "</style>\n",
       "<table border=\"1\" class=\"dataframe\">\n",
       "  <thead>\n",
       "    <tr style=\"text-align: right;\">\n",
       "      <th></th>\n",
       "      <th>group</th>\n",
       "      <th>date</th>\n",
       "      <th>user_id</th>\n",
       "      <th>purchase</th>\n",
       "      <th>price</th>\n",
       "    </tr>\n",
       "  </thead>\n",
       "  <tbody>\n",
       "    <tr>\n",
       "      <th>0</th>\n",
       "      <td>A</td>\n",
       "      <td>2021-01-02</td>\n",
       "      <td>2854</td>\n",
       "      <td>359</td>\n",
       "      <td>29410000</td>\n",
       "    </tr>\n",
       "    <tr>\n",
       "      <th>1</th>\n",
       "      <td>B</td>\n",
       "      <td>2021-01-02</td>\n",
       "      <td>2861</td>\n",
       "      <td>345</td>\n",
       "      <td>29660000</td>\n",
       "    </tr>\n",
       "    <tr>\n",
       "      <th>4</th>\n",
       "      <td>A</td>\n",
       "      <td>2021-01-03</td>\n",
       "      <td>9450</td>\n",
       "      <td>1107</td>\n",
       "      <td>91410000</td>\n",
       "    </tr>\n",
       "    <tr>\n",
       "      <th>5</th>\n",
       "      <td>B</td>\n",
       "      <td>2021-01-03</td>\n",
       "      <td>9480</td>\n",
       "      <td>1099</td>\n",
       "      <td>95620000</td>\n",
       "    </tr>\n",
       "    <tr>\n",
       "      <th>8</th>\n",
       "      <td>A</td>\n",
       "      <td>2021-01-04</td>\n",
       "      <td>16016</td>\n",
       "      <td>1906</td>\n",
       "      <td>155660000</td>\n",
       "    </tr>\n",
       "  </tbody>\n",
       "</table>\n",
       "</div>"
      ],
      "text/plain": [
       "  group       date  user_id  purchase      price\n",
       "0     A 2021-01-02     2854       359   29410000\n",
       "1     B 2021-01-02     2861       345   29660000\n",
       "4     A 2021-01-03     9450      1107   91410000\n",
       "5     B 2021-01-03     9480      1099   95620000\n",
       "8     A 2021-01-04    16016      1906  155660000"
      ]
     },
     "execution_count": 10,
     "metadata": {},
     "output_type": "execute_result"
    }
   ],
   "source": [
    "def cummulative_table(data): # В переменную data будем передавать название переменной датафейма\n",
    "    df_cumm = [] # Создаём пустой список\n",
    "    for i in data['date'].values: # Запускаем цикл по каждому отдельному значению даты\n",
    "        out = data[data['date'] <= i].groupby('group')\\\n",
    "               .agg({'date':'max', 'user_id':'sum', 'purchase':'sum', 'price': 'sum'})\n",
    "        df_cumm.append(out) # Полученный срез добавляем в созданный ранее список\n",
    "    return pd.concat(df_cumm).reset_index() # Объединяем списки и возвращаем результат\n",
    "total_df = df_full.groupby(['date', 'group'], as_index=False).agg({'user_id' : 'count', 'purchase': 'sum', 'price': 'sum'})\n",
    "cumm_df = cummulative_table(total_df).drop_duplicates()\n",
    "cumm_df.head()"
   ]
  },
  {
   "cell_type": "code",
   "execution_count": 11,
   "metadata": {},
   "outputs": [
    {
     "data": {
      "text/html": [
       "<div>\n",
       "<style scoped>\n",
       "    .dataframe tbody tr th:only-of-type {\n",
       "        vertical-align: middle;\n",
       "    }\n",
       "\n",
       "    .dataframe tbody tr th {\n",
       "        vertical-align: top;\n",
       "    }\n",
       "\n",
       "    .dataframe thead th {\n",
       "        text-align: right;\n",
       "    }\n",
       "</style>\n",
       "<table border=\"1\" class=\"dataframe\">\n",
       "  <thead>\n",
       "    <tr style=\"text-align: right;\">\n",
       "      <th></th>\n",
       "      <th>group</th>\n",
       "      <th>date</th>\n",
       "      <th>user_id</th>\n",
       "      <th>purchase</th>\n",
       "      <th>price</th>\n",
       "      <th>total_conv</th>\n",
       "      <th>avg_price</th>\n",
       "    </tr>\n",
       "  </thead>\n",
       "  <tbody>\n",
       "    <tr>\n",
       "      <th>0</th>\n",
       "      <td>A</td>\n",
       "      <td>2021-01-02</td>\n",
       "      <td>2854</td>\n",
       "      <td>359</td>\n",
       "      <td>29410000</td>\n",
       "      <td>12.58</td>\n",
       "      <td>81922.01</td>\n",
       "    </tr>\n",
       "    <tr>\n",
       "      <th>4</th>\n",
       "      <td>A</td>\n",
       "      <td>2021-01-03</td>\n",
       "      <td>9450</td>\n",
       "      <td>1107</td>\n",
       "      <td>91410000</td>\n",
       "      <td>11.71</td>\n",
       "      <td>82574.53</td>\n",
       "    </tr>\n",
       "    <tr>\n",
       "      <th>8</th>\n",
       "      <td>A</td>\n",
       "      <td>2021-01-04</td>\n",
       "      <td>16016</td>\n",
       "      <td>1906</td>\n",
       "      <td>155660000</td>\n",
       "      <td>11.90</td>\n",
       "      <td>81668.42</td>\n",
       "    </tr>\n",
       "    <tr>\n",
       "      <th>12</th>\n",
       "      <td>A</td>\n",
       "      <td>2021-01-05</td>\n",
       "      <td>22449</td>\n",
       "      <td>2696</td>\n",
       "      <td>220210000</td>\n",
       "      <td>12.01</td>\n",
       "      <td>81680.27</td>\n",
       "    </tr>\n",
       "    <tr>\n",
       "      <th>16</th>\n",
       "      <td>A</td>\n",
       "      <td>2021-01-06</td>\n",
       "      <td>29055</td>\n",
       "      <td>3460</td>\n",
       "      <td>283620000</td>\n",
       "      <td>11.91</td>\n",
       "      <td>81971.10</td>\n",
       "    </tr>\n",
       "  </tbody>\n",
       "</table>\n",
       "</div>"
      ],
      "text/plain": [
       "   group       date  user_id  purchase      price  total_conv  avg_price\n",
       "0      A 2021-01-02     2854       359   29410000       12.58   81922.01\n",
       "4      A 2021-01-03     9450      1107   91410000       11.71   82574.53\n",
       "8      A 2021-01-04    16016      1906  155660000       11.90   81668.42\n",
       "12     A 2021-01-05    22449      2696  220210000       12.01   81680.27\n",
       "16     A 2021-01-06    29055      3460  283620000       11.91   81971.10"
      ]
     },
     "metadata": {},
     "output_type": "display_data"
    },
    {
     "data": {
      "text/html": [
       "<div>\n",
       "<style scoped>\n",
       "    .dataframe tbody tr th:only-of-type {\n",
       "        vertical-align: middle;\n",
       "    }\n",
       "\n",
       "    .dataframe tbody tr th {\n",
       "        vertical-align: top;\n",
       "    }\n",
       "\n",
       "    .dataframe thead th {\n",
       "        text-align: right;\n",
       "    }\n",
       "</style>\n",
       "<table border=\"1\" class=\"dataframe\">\n",
       "  <thead>\n",
       "    <tr style=\"text-align: right;\">\n",
       "      <th></th>\n",
       "      <th>group</th>\n",
       "      <th>date</th>\n",
       "      <th>user_id</th>\n",
       "      <th>purchase</th>\n",
       "      <th>price</th>\n",
       "      <th>total_conv</th>\n",
       "      <th>avg_price</th>\n",
       "    </tr>\n",
       "  </thead>\n",
       "  <tbody>\n",
       "    <tr>\n",
       "      <th>1</th>\n",
       "      <td>B</td>\n",
       "      <td>2021-01-02</td>\n",
       "      <td>2861</td>\n",
       "      <td>345</td>\n",
       "      <td>29660000</td>\n",
       "      <td>12.06</td>\n",
       "      <td>85971.01</td>\n",
       "    </tr>\n",
       "    <tr>\n",
       "      <th>5</th>\n",
       "      <td>B</td>\n",
       "      <td>2021-01-03</td>\n",
       "      <td>9480</td>\n",
       "      <td>1099</td>\n",
       "      <td>95620000</td>\n",
       "      <td>11.59</td>\n",
       "      <td>87006.37</td>\n",
       "    </tr>\n",
       "    <tr>\n",
       "      <th>9</th>\n",
       "      <td>B</td>\n",
       "      <td>2021-01-04</td>\n",
       "      <td>16016</td>\n",
       "      <td>1863</td>\n",
       "      <td>163650000</td>\n",
       "      <td>11.63</td>\n",
       "      <td>87842.19</td>\n",
       "    </tr>\n",
       "    <tr>\n",
       "      <th>13</th>\n",
       "      <td>B</td>\n",
       "      <td>2021-01-05</td>\n",
       "      <td>22527</td>\n",
       "      <td>2612</td>\n",
       "      <td>227200000</td>\n",
       "      <td>11.59</td>\n",
       "      <td>86983.15</td>\n",
       "    </tr>\n",
       "    <tr>\n",
       "      <th>17</th>\n",
       "      <td>B</td>\n",
       "      <td>2021-01-06</td>\n",
       "      <td>29278</td>\n",
       "      <td>3450</td>\n",
       "      <td>302220000</td>\n",
       "      <td>11.78</td>\n",
       "      <td>87600.00</td>\n",
       "    </tr>\n",
       "  </tbody>\n",
       "</table>\n",
       "</div>"
      ],
      "text/plain": [
       "   group       date  user_id  purchase      price  total_conv  avg_price\n",
       "1      B 2021-01-02     2861       345   29660000       12.06   85971.01\n",
       "5      B 2021-01-03     9480      1099   95620000       11.59   87006.37\n",
       "9      B 2021-01-04    16016      1863  163650000       11.63   87842.19\n",
       "13     B 2021-01-05    22527      2612  227200000       11.59   86983.15\n",
       "17     B 2021-01-06    29278      3450  302220000       11.78   87600.00"
      ]
     },
     "metadata": {},
     "output_type": "display_data"
    }
   ],
   "source": [
    "cumm_df['total_conv'] =  round((cumm_df['purchase']*100 / cumm_df['user_id']),2)\n",
    "cumm_df['avg_price'] =  round((cumm_df['price'] / cumm_df['purchase']),2)\n",
    "cumm_a = cumm_df[cumm_df['group'] == 'A'] # таблицы кум. метрик по группам\n",
    "cumm_b = cumm_df[cumm_df['group'] == 'B']\n",
    "display(cumm_a.head())\n",
    "display(cumm_b.head())"
   ]
  },
  {
   "attachments": {},
   "cell_type": "markdown",
   "metadata": {},
   "source": [
    "### Построим график кумулятивных среднего чека и конверсии для обеих групп по дням"
   ]
  },
  {
   "cell_type": "code",
   "execution_count": 12,
   "metadata": {},
   "outputs": [
    {
     "data": {
      "image/png": "[encoded data removed]",
      "text/plain": [
       "<Figure size 1000x200 with 1 Axes>"
      ]
     },
     "metadata": {},
     "output_type": "display_data"
    }
   ],
   "source": [
    "# график кумулятивного среднего чека\n",
    "plt.figure(figsize=(10,2))\n",
    "plt.plot(cumm_a['date'], cumm_a['avg_price'], label='Group A')\n",
    "plt.plot(cumm_b['date'], cumm_b['avg_price'], label='Group B')\n",
    "plt.title('График кумулятивной конверсии')\n",
    "plt.xticks(rotation = 45)\n",
    "plt.legend()\n",
    "plt.grid(True)\n",
    "plt.show()"
   ]
  },
  {
   "cell_type": "code",
   "execution_count": 13,
   "metadata": {},
   "outputs": [
    {
     "data": {
      "image/png": "[encoded data removed]",
      "text/plain": [
       "<Figure size 1000x300 with 1 Axes>"
      ]
     },
     "metadata": {},
     "output_type": "display_data"
    }
   ],
   "source": [
    "# График кумулятивной конверсии\n",
    "plt.figure(figsize=(10,3))\n",
    "plt.plot(cumm_a['date'], cumm_a['total_conv'], label='Group A')\n",
    "plt.plot(cumm_b['date'], cumm_b['total_conv'], label='Group B')\n",
    "plt.title('График кумулятивной конверсии')\n",
    "plt.xticks(rotation = 45)\n",
    "plt.legend()\n",
    "plt.grid(True)\n",
    "plt.show()"
   ]
  },
  {
   "attachments": {},
   "cell_type": "markdown",
   "metadata": {},
   "source": [
    "Изначально конверсия группы B была ниже конверсии группы А, однако она показывала стабильный рост, и примерно 10 января конверсия группы B стала выше конверсии группы А. После чего конверсия группы B зафиксировалась примерно на этом уровне (с колебаниями). В то время как конверсия группы А начала постепенно расти. В результате конверсия группы А стабильно выше группы B. Но средний чек группы B выше среднего чека группы А."
   ]
  },
  {
   "attachments": {},
   "cell_type": "markdown",
   "metadata": {},
   "source": [
    "### Проверим распределение показателей конверсии в группах:"
   ]
  },
  {
   "cell_type": "code",
   "execution_count": 14,
   "metadata": {},
   "outputs": [
    {
     "data": {
      "text/html": [
       "<div>\n",
       "<style scoped>\n",
       "    .dataframe tbody tr th:only-of-type {\n",
       "        vertical-align: middle;\n",
       "    }\n",
       "\n",
       "    .dataframe tbody tr th {\n",
       "        vertical-align: top;\n",
       "    }\n",
       "\n",
       "    .dataframe thead th {\n",
       "        text-align: right;\n",
       "    }\n",
       "</style>\n",
       "<table border=\"1\" class=\"dataframe\">\n",
       "  <thead>\n",
       "    <tr style=\"text-align: right;\">\n",
       "      <th></th>\n",
       "      <th>date</th>\n",
       "      <th>group</th>\n",
       "      <th>user_id</th>\n",
       "      <th>purchase</th>\n",
       "      <th>price</th>\n",
       "      <th>total_conv</th>\n",
       "      <th>avg_price</th>\n",
       "    </tr>\n",
       "  </thead>\n",
       "  <tbody>\n",
       "    <tr>\n",
       "      <th>0</th>\n",
       "      <td>2021-01-02</td>\n",
       "      <td>A</td>\n",
       "      <td>2854</td>\n",
       "      <td>359</td>\n",
       "      <td>29410000</td>\n",
       "      <td>0.125788</td>\n",
       "      <td>81922.005571</td>\n",
       "    </tr>\n",
       "    <tr>\n",
       "      <th>1</th>\n",
       "      <td>2021-01-02</td>\n",
       "      <td>B</td>\n",
       "      <td>2861</td>\n",
       "      <td>345</td>\n",
       "      <td>29660000</td>\n",
       "      <td>0.120587</td>\n",
       "      <td>85971.014493</td>\n",
       "    </tr>\n",
       "    <tr>\n",
       "      <th>2</th>\n",
       "      <td>2021-01-03</td>\n",
       "      <td>A</td>\n",
       "      <td>6596</td>\n",
       "      <td>748</td>\n",
       "      <td>62000000</td>\n",
       "      <td>0.113402</td>\n",
       "      <td>82887.700535</td>\n",
       "    </tr>\n",
       "    <tr>\n",
       "      <th>3</th>\n",
       "      <td>2021-01-03</td>\n",
       "      <td>B</td>\n",
       "      <td>6619</td>\n",
       "      <td>754</td>\n",
       "      <td>65960000</td>\n",
       "      <td>0.113914</td>\n",
       "      <td>87480.106101</td>\n",
       "    </tr>\n",
       "    <tr>\n",
       "      <th>4</th>\n",
       "      <td>2021-01-04</td>\n",
       "      <td>A</td>\n",
       "      <td>6566</td>\n",
       "      <td>799</td>\n",
       "      <td>64250000</td>\n",
       "      <td>0.121687</td>\n",
       "      <td>80413.016270</td>\n",
       "    </tr>\n",
       "  </tbody>\n",
       "</table>\n",
       "</div>"
      ],
      "text/plain": [
       "        date group  user_id  purchase     price  total_conv     avg_price\n",
       "0 2021-01-02     A     2854       359  29410000    0.125788  81922.005571\n",
       "1 2021-01-02     B     2861       345  29660000    0.120587  85971.014493\n",
       "2 2021-01-03     A     6596       748  62000000    0.113402  82887.700535\n",
       "3 2021-01-03     B     6619       754  65960000    0.113914  87480.106101\n",
       "4 2021-01-04     A     6566       799  64250000    0.121687  80413.016270"
      ]
     },
     "execution_count": 14,
     "metadata": {},
     "output_type": "execute_result"
    }
   ],
   "source": [
    "total_df['total_conv'] = (total_df['purchase'] / total_df['user_id'])\n",
    "total_df['avg_price'] =  (total_df['price'] / total_df['purchase'])\n",
    "total_df.head()"
   ]
  },
  {
   "cell_type": "code",
   "execution_count": 28,
   "metadata": {},
   "outputs": [
    {
     "data": {
      "image/png": "[encoded data removed]",
      "text/plain": [
       "<Figure size 640x480 with 1 Axes>"
      ]
     },
     "metadata": {},
     "output_type": "display_data"
    }
   ],
   "source": [
    "total_df['total_conv'][total_df['group'] == 'A'].hist();"
   ]
  },
  {
   "cell_type": "code",
   "execution_count": 16,
   "metadata": {},
   "outputs": [
    {
     "data": {
      "image/png": "[encoded data removed]",
      "text/plain": [
       "<Figure size 640x480 with 1 Axes>"
      ]
     },
     "metadata": {},
     "output_type": "display_data"
    }
   ],
   "source": [
    "total_df['total_conv'][total_df['group'] == 'B'].hist();"
   ]
  },
  {
   "attachments": {},
   "cell_type": "markdown",
   "metadata": {},
   "source": [
    "Распределение похоже на нормальное, проведем Z-тест для долей"
   ]
  },
  {
   "attachments": {},
   "cell_type": "markdown",
   "metadata": {},
   "source": [
    "### Z-тест "
   ]
  },
  {
   "attachments": {},
   "cell_type": "markdown",
   "metadata": {},
   "source": [
    "уровень статистической значимости 5% (0.05)"
   ]
  },
  {
   "cell_type": "code",
   "execution_count": 17,
   "metadata": {},
   "outputs": [
    {
     "name": "stdout",
     "output_type": "stream",
     "text": [
      "0.23940749849829834\n",
      "False\n"
     ]
    }
   ],
   "source": [
    "x1=total_df[total_df['group'] == 'A']['purchase'].sum()\n",
    "x2=total_df[total_df['group'] == 'B']['purchase'].sum()\n",
    "n2=total_df[total_df['group'] == 'B']['user_id'].sum()\n",
    "n1=total_df[total_df['group'] == 'A']['user_id'].sum()\n",
    " # нужно как отношение суммы количества покупок к сумме пользователей \n",
    "# (и по группам, и по всей выборке) (отредактировано) \n",
    "\n",
    "# считаем пропорции\n",
    "p1 = x1/n1\n",
    "p2 = x2/n2\n",
    "p = (x1 + x2) / (n1 + n2)\n",
    "diff = p1 - p2\n",
    "#Рассчитаем Z-статистику:\n",
    "\n",
    "z = diff / mth.sqrt(p * (1 - p) * (1/n1 + 1/n2))\n",
    "#Теперь из полученной Z-статистики рассчитаем p-value при нормальном стандартном распределении.\n",
    "\n",
    "#Зададим нормальное стандартное распределение со средним, равным нулю, и стандартным отклонением, равным единице:\n",
    "\n",
    "distr = st.norm(0, 1)\n",
    "#Рассчитаем p-value:\n",
    "\n",
    "p_val = (1 - distr.cdf(abs(z)))*2 \n",
    "print(p_val)\n",
    "print(p_val<.05)"
   ]
  },
  {
   "attachments": {},
   "cell_type": "markdown",
   "metadata": {},
   "source": [
    "P-value больше принятого уровня значимости (5%), следовательно, статистически значимая разница между конверсиями отсутствует."
   ]
  },
  {
   "attachments": {},
   "cell_type": "markdown",
   "metadata": {},
   "source": [
    "### Проверим гипотезу о равенстве выручки:"
   ]
  },
  {
   "cell_type": "code",
   "execution_count": 18,
   "metadata": {},
   "outputs": [
    {
     "data": {
      "image/png": "[encoded data removed]",
      "text/plain": [
       "<Figure size 640x480 with 1 Axes>"
      ]
     },
     "metadata": {},
     "output_type": "display_data"
    }
   ],
   "source": [
    "plt.hist(total_df[(total_df['group'] == 'A') & (total_df['purchase'] > 0)]['price'], label='группа A')\n",
    "plt.hist(total_df[(total_df['group'] == 'B') & (total_df['purchase'] > 0)]['price'], label='группа B', alpha=0.3)\n",
    "plt.legend() \n",
    "plt.show() "
   ]
  },
  {
   "cell_type": "code",
   "execution_count": 19,
   "metadata": {},
   "outputs": [
    {
     "data": {
      "text/plain": [
       "ShapiroResult(statistic=0.6358132362365723, pvalue=2.2869323856866686e-06)"
      ]
     },
     "execution_count": 19,
     "metadata": {},
     "output_type": "execute_result"
    }
   ],
   "source": [
    "st.shapiro(total_df[total_df['group'] == 'A'].price) \n",
    "# проверяем на норяем на нормальность критерием Шапиро-Уилка"
   ]
  },
  {
   "cell_type": "code",
   "execution_count": 20,
   "metadata": {},
   "outputs": [
    {
     "data": {
      "text/plain": [
       "ShapiroResult(statistic=0.6256370544433594, pvalue=1.7464255961385788e-06)"
      ]
     },
     "execution_count": 20,
     "metadata": {},
     "output_type": "execute_result"
    }
   ],
   "source": [
    "st.shapiro(total_df[total_df['group'] == 'B'].price)"
   ]
  },
  {
   "attachments": {},
   "cell_type": "markdown",
   "metadata": {},
   "source": [
    "Распределение не нормальное, используем Тест Манна-Уитни"
   ]
  },
  {
   "cell_type": "code",
   "execution_count": 21,
   "metadata": {},
   "outputs": [
    {
     "data": {
      "text/plain": [
       "MannwhitneyuResult(statistic=99.0, pvalue=0.00028893174193897724)"
      ]
     },
     "metadata": {},
     "output_type": "display_data"
    }
   ],
   "source": [
    "x = st.mannwhitneyu(total_df[total_df['group'] == 'A']['price'], total_df[total_df['group'] == 'B']['price'], alternative='two-sided')\n",
    "display(x)"
   ]
  },
  {
   "attachments": {},
   "cell_type": "markdown",
   "metadata": {},
   "source": [
    "pvalue < 0,05 - следовательно выручка не равна(стоимость заказов)"
   ]
  },
  {
   "attachments": {},
   "cell_type": "markdown",
   "metadata": {},
   "source": [
    "### Проверим различия средних чеков по дням:"
   ]
  },
  {
   "cell_type": "code",
   "execution_count": 22,
   "metadata": {},
   "outputs": [
    {
     "data": {
      "image/png": "[encoded data removed]",
      "text/plain": [
       "<Figure size 640x480 with 1 Axes>"
      ]
     },
     "metadata": {},
     "output_type": "display_data"
    }
   ],
   "source": [
    "total_df[total_df['group'] == 'A'].avg_price.hist();"
   ]
  },
  {
   "cell_type": "code",
   "execution_count": 23,
   "metadata": {},
   "outputs": [
    {
     "data": {
      "image/png": "[encoded data removed]",
      "text/plain": [
       "<Figure size 640x480 with 1 Axes>"
      ]
     },
     "metadata": {},
     "output_type": "display_data"
    }
   ],
   "source": [
    "total_df[total_df['group'] == 'B'].avg_price.hist();"
   ]
  },
  {
   "attachments": {},
   "cell_type": "markdown",
   "metadata": {},
   "source": [
    "Проверим на нормальность:"
   ]
  },
  {
   "cell_type": "code",
   "execution_count": 24,
   "metadata": {},
   "outputs": [
    {
     "data": {
      "text/plain": [
       "ShapiroResult(statistic=0.9469833970069885, pvalue=0.25307759642601013)"
      ]
     },
     "execution_count": 24,
     "metadata": {},
     "output_type": "execute_result"
    }
   ],
   "source": [
    "st.shapiro(total_df[total_df['group'] == 'A'].avg_price)"
   ]
  },
  {
   "cell_type": "code",
   "execution_count": 25,
   "metadata": {},
   "outputs": [
    {
     "data": {
      "text/plain": [
       "ShapiroResult(statistic=0.9269078373908997, pvalue=0.09378302097320557)"
      ]
     },
     "execution_count": 25,
     "metadata": {},
     "output_type": "execute_result"
    }
   ],
   "source": [
    "st.shapiro(total_df[total_df['group'] == 'B'].avg_price)"
   ]
  },
  {
   "attachments": {},
   "cell_type": "markdown",
   "metadata": {},
   "source": [
    "pvalue больше 5% - распределения нормальные, значит проводим Т-тест"
   ]
  },
  {
   "cell_type": "code",
   "execution_count": 26,
   "metadata": {},
   "outputs": [
    {
     "data": {
      "text/plain": [
       "Ttest_indResult(statistic=-9.609061044565284, pvalue=2.2523589349617907e-12)"
      ]
     },
     "metadata": {},
     "output_type": "display_data"
    }
   ],
   "source": [
    "results = st.ttest_ind(total_df[total_df['group'] == 'A'].avg_price, total_df[total_df['group'] == 'B'].avg_price, equal_var = True)\n",
    "display(results)"
   ]
  },
  {
   "attachments": {},
   "cell_type": "markdown",
   "metadata": {},
   "source": [
    "### Несмотря на то что конверсия группы B ниже, статистической значимости в конверсии не достигнуто, соответственно, считать конверсии разными оснований нет. Зато средний чек группы B значительно выше среднего чека группы A. Статистическая значимость достигнута. Вариант сайта B приносит значимо больше выручки, чем вариант сайта A. Рекомендуем признать, что вариант B лучше, чем вариант A!"
   ]
  }
 ],
 "metadata": {
  "kernelspec": {
   "display_name": "Python 3",
   "language": "python",
   "name": "python3"
  },
  "language_info": {
   "codemirror_mode": {
    "name": "ipython",
    "version": 3
   },
   "file_extension": ".py",
   "mimetype": "text/x-python",
   "name": "python",
   "nbconvert_exporter": "python",
   "pygments_lexer": "ipython3",
   "version": "3.9.10"
  },
  "orig_nbformat": 4
 },
 "nbformat": 4,
 "nbformat_minor": 2
}
